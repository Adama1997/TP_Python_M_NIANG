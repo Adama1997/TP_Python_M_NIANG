{
 "cells": [
  {
   "cell_type": "markdown",
   "metadata": {},
   "source": [
    "# exercice1"
   ]
  },
  {
   "cell_type": "code",
   "execution_count": 1,
   "metadata": {},
   "outputs": [
    {
     "name": "stdout",
     "output_type": "stream",
     "text": [
      "veuillez entrer un nombre: 23\n",
      "veuillez entrer un nombre: 14\n",
      "veuillez entrer un nombre: 23\n",
      "le nombre maximal est:  23\n"
     ]
    }
   ],
   "source": [
    "a = int(input(\"veuillez entrer un nombre: \"))\n",
    "b = int(input(\"veuillez entrer un nombre: \"))\n",
    "c = int(input(\"veuillez entrer un nombre: \"))\n",
    "max = 0\n",
    "if (a>b):\n",
    "    max = a\n",
    "else:\n",
    "    max = b\n",
    "if(max<c):\n",
    "    max = c\n",
    "else:\n",
    "    max = max\n",
    "print(\"le nombre maximal est: \",max)"
   ]
  },
  {
   "cell_type": "markdown",
   "metadata": {},
   "source": [
    "# exercice2"
   ]
  },
  {
   "cell_type": "code",
   "execution_count": 9,
   "metadata": {},
   "outputs": [
    {
     "name": "stdout",
     "output_type": "stream",
     "text": [
      "entrer un alphabet: c\n",
      "consonne\n"
     ]
    }
   ],
   "source": [
    "lettre = input(\"entrer un alphabet: \")\n",
    "if lettre in ('aeiouy'):\n",
    "    print(\"voyelle: \")\n",
    "else:\n",
    "    print(\"consonne\")"
   ]
  },
  {
   "cell_type": "markdown",
   "metadata": {},
   "source": [
    "# exercice3"
   ]
  },
  {
   "cell_type": "code",
   "execution_count": 2,
   "metadata": {},
   "outputs": [
    {
     "name": "stdout",
     "output_type": "stream",
     "text": [
      "entrer un numeros: 3\n",
      "mercredi\n"
     ]
    }
   ],
   "source": [
    "num = int(input(\"entrer un numeros: \"))\n",
    "if num==1:\n",
    "    print(\"lundi\")\n",
    "elif num==2:\n",
    "    print(\"mardi\")\n",
    "elif num==3:\n",
    "    print(\"mercredi\")\n",
    "elif num==4:\n",
    "    print(\"jeudi\")\n",
    "elif num==5:\n",
    "    print(\"vendredi\")\n",
    "elif num==6:\n",
    "    print(\"samedi\")\n",
    "elif num==7:\n",
    "    print(\"dimanche\")\n",
    "else:\n",
    "    print(\"pas de jour\")"
   ]
  },
  {
   "cell_type": "markdown",
   "metadata": {},
   "source": [
    "# exercice4"
   ]
  },
  {
   "cell_type": "code",
   "execution_count": 3,
   "metadata": {},
   "outputs": [
    {
     "name": "stdout",
     "output_type": "stream",
     "text": [
      "le prix de fabrication: 1200\n",
      "le prix de vente: 1300\n",
      "waouh.... il en a bénéficié \n"
     ]
    }
   ],
   "source": [
    "prix_fab = int(input(\"le prix de fabrication: \"))\n",
    "prix_vente = int(input(\"le prix de vente: \"))\n",
    "profit = prix_vente-prix_fab\n",
    "if prix_fab < prix_vente:\n",
    "    print(\"waouh.... il en a bénéficié \")\n",
    "else:\n",
    "    print(\"pas de profit mais du perte\")"
   ]
  },
  {
   "cell_type": "markdown",
   "metadata": {},
   "source": [
    "# exercice5"
   ]
  },
  {
   "cell_type": "code",
   "execution_count": 4,
   "metadata": {},
   "outputs": [
    {
     "name": "stdout",
     "output_type": "stream",
     "text": [
      "entrer l'an: 2001\n",
      "l'an n'est pas bissextile!\n"
     ]
    }
   ],
   "source": [
    "an = int(input(\"entrer l'an: \"))\n",
    "if (an%4==0 and an%100!=0 or an%400==0):\n",
    "    print(\"l'année est une année bissextile!\")\n",
    "else:\n",
    "    print(\"l'an n'est pas bissextile!\")"
   ]
  },
  {
   "cell_type": "markdown",
   "metadata": {},
   "source": [
    "# exercice6"
   ]
  },
  {
   "cell_type": "code",
   "execution_count": 13,
   "metadata": {},
   "outputs": [
    {
     "name": "stdout",
     "output_type": "stream",
     "text": [
      "*\n",
      "**\n",
      "***\n",
      "****\n",
      "*****\n"
     ]
    }
   ],
   "source": [
    "def triangle(n):\n",
    "    for i in range(1,n+1,1):\n",
    "        print(\"*\" * i)\n",
    "triangle(5)"
   ]
  },
  {
   "cell_type": "markdown",
   "metadata": {},
   "source": [
    "# exercice7"
   ]
  },
  {
   "cell_type": "code",
   "execution_count": 20,
   "metadata": {},
   "outputs": [
    {
     "name": "stdout",
     "output_type": "stream",
     "text": [
      "le mot  informatique comPte  5 voyelles \n"
     ]
    }
   ],
   "source": [
    "mot = \"informatique\"\n",
    "n = len(mot)\n",
    "voyelle = 0\n",
    "for i in range(1,n):\n",
    "    if mot[i] in ['a','e','i','o','u']:\n",
    "        voyelle+=1\n",
    "print(\"le mot \",mot,\"comPte \",voyelle,\"voyelles \")\n",
    "    "
   ]
  },
  {
   "cell_type": "markdown",
   "metadata": {},
   "source": [
    "# exercice8"
   ]
  },
  {
   "cell_type": "code",
   "execution_count": 5,
   "metadata": {},
   "outputs": [],
   "source": [
    "a=1\n",
    "while a>18:\n",
    "    a=a+1\n",
    "    if a%3==0:\n",
    "        print(a)"
   ]
  },
  {
   "cell_type": "markdown",
   "metadata": {},
   "source": [
    "# exercice9"
   ]
  },
  {
   "cell_type": "code",
   "execution_count": 11,
   "metadata": {},
   "outputs": [
    {
     "name": "stdout",
     "output_type": "stream",
     "text": [
      "veuillez saisir la note N° 1\n",
      "11\n",
      "veuillez saisir la note N° 2\n",
      "15\n",
      "veuillez saisir la note N° 3\n",
      "17\n",
      "veuillez saisir la note N° 4\n",
      "11\n",
      "veuillez saisir la note N° 5\n",
      "5\n",
      "veuillez saisir la note N° 6\n",
      "6\n",
      "veuillez saisir la note N° 7\n",
      "8\n",
      "veuillez saisir la note N° 8\n",
      "9\n",
      "veuillez saisir la note N° 9\n",
      "15\n",
      "veuillez saisir la note N° 10\n",
      "14\n",
      "la moyenne est:  11.1\n",
      "la note minimal est:  5.0\n",
      "la note maximal est:  17.0\n"
     ]
    }
   ],
   "source": [
    "nbr_note = 10\n",
    "note_min = 20\n",
    "note_max = 0\n",
    "som_note = 0 \n",
    "for i in range(1,11):\n",
    "    print(\"veuillez saisir la note N°\",i)\n",
    "    note_saisi = float(input())\n",
    "    while note_saisi>20 or note_saisi<0:\n",
    "        print(\"veuillez saisir la note N°\",i)\n",
    "        note_saisi=float(input())\n",
    "    som_note += note_saisi\n",
    "    if note_min>note_saisi:\n",
    "        note_min = note_saisi\n",
    "    if note_max<note_saisi: \n",
    "        note_max = note_saisi\n",
    "moyenne = som_note/nbr_note\n",
    "print(\"la moyenne est: \",moyenne)\n",
    "print(\"la note minimal est: \",note_min)\n",
    "print(\"la note maximal est: \",note_max)"
   ]
  },
  {
   "cell_type": "markdown",
   "metadata": {},
   "source": [
    "# exercice10"
   ]
  },
  {
   "cell_type": "code",
   "execution_count": 24,
   "metadata": {},
   "outputs": [
    {
     "name": "stdout",
     "output_type": "stream",
     "text": [
      "vous etes mont rollandais?oui\n",
      "super\n"
     ]
    }
   ],
   "source": [
    "question = input(\"vous etes mont rollandais?\")\n",
    "if question == \"oui\":\n",
    "    print(\"super\")"
   ]
  },
  {
   "cell_type": "code",
   "execution_count": null,
   "metadata": {},
   "outputs": [],
   "source": []
  }
 ],
 "metadata": {
  "kernelspec": {
   "display_name": "Python 3",
   "language": "python",
   "name": "python3"
  },
  "language_info": {
   "codemirror_mode": {
    "name": "ipython",
    "version": 3
   },
   "file_extension": ".py",
   "mimetype": "text/x-python",
   "name": "python",
   "nbconvert_exporter": "python",
   "pygments_lexer": "ipython3",
   "version": "3.8.3"
  }
 },
 "nbformat": 4,
 "nbformat_minor": 4
}
